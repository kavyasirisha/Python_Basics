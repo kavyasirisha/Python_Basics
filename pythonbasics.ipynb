{
 "cells": [
  {
   "cell_type": "markdown",
   "id": "da7ad950-2c51-4c06-82d7-8484368f38fc",
   "metadata": {},
   "source": [
    "# PYTHON\n",
    "Python is a popular programming language. It was created by Guido van Rossum, and released in 1991.\n",
    "\n",
    "- Works on different Platforms(Window,MAc,Linux)\n",
    "- open source programing language has simple syntax similar like english language\n",
    "- it has multiple lib and frame works(numpy, pandas, matplotlib, seaborn, scikitslearn)\n",
    "- "
   ]
  },
  {
   "cell_type": "code",
   "execution_count": 5,
   "id": "3fc9575b-a873-4dcd-97a9-21ef7885a1c4",
   "metadata": {},
   "outputs": [
    {
     "ename": "NameError",
     "evalue": "name 'python' is not defined",
     "output_type": "error",
     "traceback": [
      "\u001b[0;31m---------------------------------------------------------------------------\u001b[0m",
      "\u001b[0;31mNameError\u001b[0m                                 Traceback (most recent call last)",
      "Cell \u001b[0;32mIn[5], line 1\u001b[0m\n\u001b[0;32m----> 1\u001b[0m python \u001b[38;5;241m-\u001b[39m\u001b[38;5;241m-\u001b[39mversion\n",
      "\u001b[0;31mNameError\u001b[0m: name 'python' is not defined"
     ]
    }
   ],
   "source": [
    "python --version"
   ]
  },
  {
   "cell_type": "code",
   "execution_count": 7,
   "id": "f0d4226e-ab36-474d-8fcc-2f416d8d31c5",
   "metadata": {},
   "outputs": [
    {
     "name": "stdout",
     "output_type": "stream",
     "text": [
      "3.12.7 | packaged by Anaconda, Inc. | (main, Oct  4 2024, 08:22:19) [Clang 14.0.6 ]\n"
     ]
    }
   ],
   "source": [
    "import sys\n",
    "print(sys.version)"
   ]
  },
  {
   "cell_type": "code",
   "execution_count": 11,
   "id": "52d213fa-b1aa-48f7-8435-72ffcda83146",
   "metadata": {},
   "outputs": [
    {
     "name": "stdout",
     "output_type": "stream",
     "text": [
      "Basics of python\n"
     ]
    }
   ],
   "source": [
    "#Displaying messages\n",
    "\n",
    "print('Basics of python')"
   ]
  },
  {
   "cell_type": "markdown",
   "id": "eb6bdcb3-d872-431e-8eb0-3528c3af8c9e",
   "metadata": {},
   "source": [
    "# Python Syntax\n",
    "- indendation\n",
    "- "
   ]
  },
  {
   "cell_type": "code",
   "execution_count": 13,
   "id": "1d572e87-3412-470e-adfa-951372b51034",
   "metadata": {},
   "outputs": [
    {
     "ename": "IndentationError",
     "evalue": "expected an indented block after 'if' statement on line 1 (2829832574.py, line 2)",
     "output_type": "error",
     "traceback": [
      "\u001b[0;36m  Cell \u001b[0;32mIn[13], line 2\u001b[0;36m\u001b[0m\n\u001b[0;31m    print('five is greater than 2!')\u001b[0m\n\u001b[0m    ^\u001b[0m\n\u001b[0;31mIndentationError\u001b[0m\u001b[0;31m:\u001b[0m expected an indented block after 'if' statement on line 1\n"
     ]
    }
   ],
   "source": [
    "if 5>2:\n",
    "print('five is greater than 2!')"
   ]
  },
  {
   "cell_type": "code",
   "execution_count": 15,
   "id": "f856f36d-eec6-42e0-aa59-de98f4da3fa6",
   "metadata": {},
   "outputs": [
    {
     "name": "stdout",
     "output_type": "stream",
     "text": [
      "five is greater than 2!\n"
     ]
    }
   ],
   "source": [
    "if 5>2:\n",
    "    print('five is greater than 2!')"
   ]
  },
  {
   "cell_type": "code",
   "execution_count": 17,
   "id": "a6f20684-9acd-452a-bdaa-ca67a98c5031",
   "metadata": {},
   "outputs": [
    {
     "ename": "IndentationError",
     "evalue": "unexpected indent (3772748168.py, line 3)",
     "output_type": "error",
     "traceback": [
      "\u001b[0;36m  Cell \u001b[0;32mIn[17], line 3\u001b[0;36m\u001b[0m\n\u001b[0;31m    print(\"Five is greater than two!\")\u001b[0m\n\u001b[0m    ^\u001b[0m\n\u001b[0;31mIndentationError\u001b[0m\u001b[0;31m:\u001b[0m unexpected indent\n"
     ]
    }
   ],
   "source": [
    "if 5 > 2:\n",
    " print(\"Five is greater than two!\") \n",
    "        print(\"Five is greater than two!\")"
   ]
  },
  {
   "cell_type": "code",
   "execution_count": 19,
   "id": "437fd617-25d7-485d-94d2-a7e26e645d70",
   "metadata": {},
   "outputs": [
    {
     "name": "stdout",
     "output_type": "stream",
     "text": [
      "Five is greater than two!\n",
      "Five is greater than two!\n"
     ]
    }
   ],
   "source": [
    "if 5 > 2:\n",
    "    print(\"Five is greater than two!\") \n",
    "    print(\"Five is greater than two!\")"
   ]
  },
  {
   "cell_type": "markdown",
   "id": "838ebd38-a625-44ca-afb5-36a54ad152b2",
   "metadata": {},
   "source": [
    "# Comments \n",
    "\n",
    "- Comments can be used to explain Python code.\n",
    "\n",
    "- Comments can be used to make the code more readable.\n",
    "\n",
    "- Comments can be used to prevent execution when testing code.\n",
    "\n",
    "- comment starts with # , and python will ignore them"
   ]
  },
  {
   "cell_type": "code",
   "execution_count": 21,
   "id": "f60c3da1-a055-47a3-9dc9-62501580cf22",
   "metadata": {},
   "outputs": [
    {
     "name": "stdout",
     "output_type": "stream",
     "text": [
      "this is comment : #\n"
     ]
    }
   ],
   "source": [
    "#this is comment\n",
    "print('this is comment : #')"
   ]
  },
  {
   "cell_type": "code",
   "execution_count": null,
   "id": "a295133d-12f1-4302-8f1e-4c16c6865fd0",
   "metadata": {},
   "outputs": [],
   "source": [
    "# this\n",
    "# is \n",
    "# multi line comment\n",
    "\n",
    "\n",
    "''' \n",
    "this is \n",
    "multi line\n",
    "comment\n",
    "'''\n"
   ]
  },
  {
   "cell_type": "markdown",
   "id": "87f29863-54dc-4595-a5c9-2857dc3a0198",
   "metadata": {},
   "source": [
    "# Python Variables\n",
    "\n",
    "- A variable is created the moment when you assign a value to it\n"
   ]
  },
  {
   "cell_type": "code",
   "execution_count": 25,
   "id": "ec766b4c-6451-493b-931f-0580554c314f",
   "metadata": {},
   "outputs": [
    {
     "name": "stdout",
     "output_type": "stream",
     "text": [
      "5\n"
     ]
    }
   ],
   "source": [
    "x=5  #here x is a variable\n",
    "print(x)"
   ]
  },
  {
   "cell_type": "markdown",
   "id": "0c1091aa-2d48-4070-a924-389987cb1723",
   "metadata": {},
   "source": [
    "# Data Types\n",
    "\n",
    "- Variables can store data of different types, and different types can do different things.\n",
    "\n",
    "Python has the following data types built-in by default, in these categories:\n",
    "\n",
    "Text Type:\tstr\n",
    "Numeric Types:\tint(whole numbers), float(points)\n",
    "\n"
   ]
  },
  {
   "cell_type": "markdown",
   "id": "4d83d70f-b014-4db3-8c59-a04f91f638c9",
   "metadata": {},
   "source": [
    "#Strings in python are surrounded by either single quotation marks, or double quotation marks."
   ]
  },
  {
   "cell_type": "code",
   "execution_count": 27,
   "id": "3e570eee-22fd-4b4e-92ff-799239276ff5",
   "metadata": {},
   "outputs": [
    {
     "name": "stdout",
     "output_type": "stream",
     "text": [
      "Hello Kavya\n"
     ]
    }
   ],
   "source": [
    "x = 'Hello Kavya'\n",
    "print(x)    # here x is string alwasys has command in '...' or \"..\""
   ]
  },
  {
   "cell_type": "code",
   "execution_count": 29,
   "id": "444c090b-a4ec-45ba-95fa-4f73fb4cfcf2",
   "metadata": {},
   "outputs": [
    {
     "name": "stdout",
     "output_type": "stream",
     "text": [
      "<class 'str'>\n"
     ]
    }
   ],
   "source": [
    "print(type(x)) # type() this will gives a datatype-- builtin function"
   ]
  },
  {
   "cell_type": "markdown",
   "id": "a6ba145d-38bf-47d1-b409-a35631102b43",
   "metadata": {},
   "source": [
    "# Python- strin slicing\n",
    "\n",
    "- index based\n",
    "- return a range of characters by using slicing index\n",
    "- [start index : end index] - starts with zer0 : n-1 ends"
   ]
  },
  {
   "cell_type": "code",
   "execution_count": 41,
   "id": "e1706032-7290-4c05-84ec-85497d6a6db0",
   "metadata": {},
   "outputs": [
    {
     "name": "stdout",
     "output_type": "stream",
     "text": [
      "llo\n"
     ]
    }
   ],
   "source": [
    "a = 'Hello world'\n",
    "print(a[2:5])"
   ]
  },
  {
   "cell_type": "code",
   "execution_count": 45,
   "id": "7d2e0dc8-bd15-421d-bd49-81020b0f321a",
   "metadata": {},
   "outputs": [
    {
     "name": "stdout",
     "output_type": "stream",
     "text": [
      "Hello \n"
     ]
    }
   ],
   "source": [
    "print(a[:6]) # untill (6-1) index"
   ]
  },
  {
   "cell_type": "code",
   "execution_count": 47,
   "id": "1d0da859-0c03-4dc9-b65a-9e877b607c3a",
   "metadata": {},
   "outputs": [
    {
     "name": "stdout",
     "output_type": "stream",
     "text": [
      "llo world\n"
     ]
    }
   ],
   "source": [
    "print(a[2:]) # stars from index 2 "
   ]
  },
  {
   "cell_type": "code",
   "execution_count": 49,
   "id": "b7a3e7be-f330-4e66-8380-333f739cc512",
   "metadata": {},
   "outputs": [
    {
     "name": "stdout",
     "output_type": "stream",
     "text": [
      "wor\n"
     ]
    }
   ],
   "source": [
    "print(a[-5:-2])"
   ]
  },
  {
   "cell_type": "markdown",
   "id": "e8073579-51cf-49d0-b15c-2928bdc861fd",
   "metadata": {},
   "source": [
    "# built-in functions\n",
    "\n",
    "- upper() : returns strin in upper case\n",
    "- lower() : return string into lower case\n",
    "- strip() : remove any white spaces from begining and ending\n",
    "- replace() : replace string into anther string"
   ]
  },
  {
   "cell_type": "code",
   "execution_count": 51,
   "id": "37dc5674-05c2-496e-a118-b612cc9059d1",
   "metadata": {},
   "outputs": [
    {
     "name": "stdout",
     "output_type": "stream",
     "text": [
      "HELLO WORLD\n"
     ]
    }
   ],
   "source": [
    "a= 'Hello world'\n",
    "print(a.upper())"
   ]
  },
  {
   "cell_type": "code",
   "execution_count": 53,
   "id": "16591387-0df3-42db-918c-a64f12f1ed11",
   "metadata": {},
   "outputs": [
    {
     "name": "stdout",
     "output_type": "stream",
     "text": [
      "hello world\n"
     ]
    }
   ],
   "source": [
    "print(a.lower())"
   ]
  },
  {
   "cell_type": "code",
   "execution_count": 57,
   "id": "1bf1e585-40f4-4f49-85be-988c382213ae",
   "metadata": {},
   "outputs": [
    {
     "name": "stdout",
     "output_type": "stream",
     "text": [
      "  kavya..  \n",
      "kavya..\n"
     ]
    }
   ],
   "source": [
    "a = '  kavya..  '\n",
    "print(a)\n",
    "print(a.strip())"
   ]
  },
  {
   "cell_type": "code",
   "execution_count": 61,
   "id": "70d4d4a1-0720-4b87-b63d-7bf07ddb188a",
   "metadata": {},
   "outputs": [
    {
     "name": "stdout",
     "output_type": "stream",
     "text": [
      "Wello World!!\n"
     ]
    }
   ],
   "source": [
    "a = \"Wello World!!\"\n",
    "print(a)"
   ]
  },
  {
   "cell_type": "code",
   "execution_count": 71,
   "id": "48eb81f6-1fdf-49e2-97ae-faee2c463183",
   "metadata": {},
   "outputs": [
    {
     "name": "stdout",
     "output_type": "stream",
     "text": [
      "Hello Horld!!\n"
     ]
    }
   ],
   "source": [
    "print(a.replace('W' ,'H'))"
   ]
  },
  {
   "cell_type": "markdown",
   "id": "9d55d031-c6f2-4d25-8fde-e51f68cf8bf2",
   "metadata": {},
   "source": [
    "# string concatination\n",
    "\n",
    "- combine 2 string by using + operator"
   ]
  },
  {
   "cell_type": "code",
   "execution_count": 73,
   "id": "81eb19bd-d8f5-4507-b8a7-8531961f0b24",
   "metadata": {},
   "outputs": [
    {
     "name": "stdout",
     "output_type": "stream",
     "text": [
      "HelloWorld\n"
     ]
    }
   ],
   "source": [
    "a = \"Hello\"\n",
    "b = \"World\"\n",
    "c = a + b\n",
    "print(c)"
   ]
  },
  {
   "cell_type": "code",
   "execution_count": 77,
   "id": "345d1ec9-28a4-4d60-b0b2-ff9359ec8ccb",
   "metadata": {},
   "outputs": [
    {
     "name": "stdout",
     "output_type": "stream",
     "text": [
      "Hello World!\n"
     ]
    }
   ],
   "source": [
    "c = a + ' ' + b + '!'\n",
    "print(c)"
   ]
  },
  {
   "cell_type": "markdown",
   "id": "80569919-b9e3-4ffe-b589-b13636bb0f98",
   "metadata": {},
   "source": [
    "# string Format\n",
    "\n",
    "- used to add string + variable\n",
    "- to specify a string is an f-string , simply put f infront of string literal\n",
    "- and add {} as placeholder for a variable"
   ]
  },
  {
   "cell_type": "code",
   "execution_count": 79,
   "id": "c797820f-4819-4d1f-a1f0-e2e90eab15c9",
   "metadata": {},
   "outputs": [
    {
     "ename": "TypeError",
     "evalue": "can only concatenate str (not \"int\") to str",
     "output_type": "error",
     "traceback": [
      "\u001b[0;31m---------------------------------------------------------------------------\u001b[0m",
      "\u001b[0;31mTypeError\u001b[0m                                 Traceback (most recent call last)",
      "Cell \u001b[0;32mIn[79], line 2\u001b[0m\n\u001b[1;32m      1\u001b[0m age \u001b[38;5;241m=\u001b[39m \u001b[38;5;241m27\u001b[39m\n\u001b[0;32m----> 2\u001b[0m name \u001b[38;5;241m=\u001b[39m \u001b[38;5;124m'\u001b[39m\u001b[38;5;124mmy name is kavya, i am \u001b[39m\u001b[38;5;124m'\u001b[39m \u001b[38;5;241m+\u001b[39m age\n\u001b[1;32m      3\u001b[0m \u001b[38;5;28mprint\u001b[39m(name)\n",
      "\u001b[0;31mTypeError\u001b[0m: can only concatenate str (not \"int\") to str"
     ]
    }
   ],
   "source": [
    "age = 27\n",
    "name = 'my name is kavya, i am ' + age\n",
    "print(name)"
   ]
  },
  {
   "cell_type": "code",
   "execution_count": 87,
   "id": "ca44342c-f8cf-44e6-90c6-5a43b435dc5f",
   "metadata": {},
   "outputs": [
    {
     "name": "stdout",
     "output_type": "stream",
     "text": [
      "my name is kavya , i am {age}\n"
     ]
    }
   ],
   "source": [
    "age = 27\n",
    "name = 'my name is kavya , i am {age}'  # tha adding variable must br in {}\n",
    "print(name)"
   ]
  },
  {
   "cell_type": "code",
   "execution_count": 89,
   "id": "03d355fb-4d6d-4fbd-963d-df3b6486bfeb",
   "metadata": {},
   "outputs": [
    {
     "name": "stdout",
     "output_type": "stream",
     "text": [
      "my name is kavya , i am 27\n"
     ]
    }
   ],
   "source": [
    "age = 27\n",
    "name = f'my name is kavya , i am {age}'  # f 'tha adding variable must br in {}\n",
    "print(name)"
   ]
  },
  {
   "cell_type": "code",
   "execution_count": 91,
   "id": "b076fa4c-b6a1-4498-8585-a65c83ca54bd",
   "metadata": {},
   "outputs": [
    {
     "name": "stdout",
     "output_type": "stream",
     "text": [
      "my name is kavya , i am 27 old.\n"
     ]
    }
   ],
   "source": [
    "age = 27\n",
    "name = f'my name is kavya , i am {age} old.'  # f 'tha adding variable must br in {}\n",
    "print(name)"
   ]
  },
  {
   "cell_type": "code",
   "execution_count": 31,
   "id": "834d2819-920f-438d-a7c5-57e64da70dfc",
   "metadata": {},
   "outputs": [
    {
     "name": "stdout",
     "output_type": "stream",
     "text": [
      "5\n",
      "<class 'str'>\n"
     ]
    }
   ],
   "source": [
    "y='5'\n",
    "print(y)\n",
    "print(type(y))"
   ]
  },
  {
   "cell_type": "markdown",
   "id": "2c241c8d-049e-43f3-9c8c-76d584ef01f0",
   "metadata": {},
   "source": [
    "# python input functions"
   ]
  },
  {
   "cell_type": "markdown",
   "id": "e0dbfb39-9729-4b9b-8e3f-1d0a48fa5572",
   "metadata": {},
   "source": [
    "input function: machine ask us to write an input value"
   ]
  },
  {
   "cell_type": "code",
   "execution_count": 2,
   "id": "0919a414-bd31-4584-9eaf-aaba3b245f81",
   "metadata": {},
   "outputs": [
    {
     "name": "stdin",
     "output_type": "stream",
     "text": [
      "what is your name kavya\n"
     ]
    }
   ],
   "source": [
    "age= input('what is your name')"
   ]
  },
  {
   "cell_type": "code",
   "execution_count": 5,
   "id": "453ccd25-2813-4a8d-92f8-35064e69705f",
   "metadata": {},
   "outputs": [
    {
     "name": "stdin",
     "output_type": "stream",
     "text": [
      "Guess my age :::  27\n"
     ]
    },
    {
     "name": "stdout",
     "output_type": "stream",
     "text": [
      "Your age is  27\n"
     ]
    }
   ],
   "source": [
    "age=input('Guess my age ::: ')\n",
    "print('Your age is ',age)"
   ]
  },
  {
   "cell_type": "code",
   "execution_count": 33,
   "id": "dd4895cf-a62f-4495-80de-8e80aafd51b5",
   "metadata": {},
   "outputs": [
    {
     "name": "stdout",
     "output_type": "stream",
     "text": [
      "5\n",
      "<class 'int'>\n"
     ]
    }
   ],
   "source": [
    "x= 5\n",
    "print(x)\n",
    "print(type(x))"
   ]
  },
  {
   "cell_type": "code",
   "execution_count": 35,
   "id": "e61d0071-834e-4390-86d5-d5f3260fec43",
   "metadata": {},
   "outputs": [
    {
     "name": "stdout",
     "output_type": "stream",
     "text": [
      "5.0\n",
      "<class 'float'>\n"
     ]
    }
   ],
   "source": [
    "x=5.0\n",
    "print(x)\n",
    "print(type(x))"
   ]
  },
  {
   "cell_type": "code",
   "execution_count": 37,
   "id": "2d3121df-7739-41f1-8ad8-32544d48c388",
   "metadata": {},
   "outputs": [
    {
     "name": "stdout",
     "output_type": "stream",
     "text": [
      "<class 'int'>\n",
      "<class 'float'>\n",
      "<class 'complex'>\n"
     ]
    }
   ],
   "source": [
    "x = 1    # int\n",
    "y = 2.8  # float\n",
    "z = 1j   # complex\n",
    "\n",
    "print(type(x))\n",
    "print(type(y))\n",
    "print(type(z))"
   ]
  },
  {
   "cell_type": "markdown",
   "id": "cde556f9-6bab-40d3-afb8-601b30ae9dff",
   "metadata": {},
   "source": [
    "x = 1\n",
    "y = 35656222554887711\n",
    "z = -3255522\n",
    "\n",
    "print(type(x))\n",
    "print(type(y))\n",
    "print(type(z))"
   ]
  },
  {
   "cell_type": "markdown",
   "id": "3a556ccc-be37-4bc1-800c-0638a5dfca70",
   "metadata": {},
   "source": [
    "# python Casting\n",
    "\n",
    "change the data types into different data type"
   ]
  },
  {
   "cell_type": "code",
   "execution_count": 15,
   "id": "dfaa1a28-b51d-4b47-805f-5ce8175eee4d",
   "metadata": {},
   "outputs": [
    {
     "name": "stdout",
     "output_type": "stream",
     "text": [
      "<class 'float'>\n"
     ]
    }
   ],
   "source": [
    "x=float(2.8)\n",
    "print(type(x))"
   ]
  },
  {
   "cell_type": "code",
   "execution_count": 17,
   "id": "2ec62645-a6e3-44dc-a502-1b5b2b078043",
   "metadata": {},
   "outputs": [
    {
     "name": "stdout",
     "output_type": "stream",
     "text": [
      "2\n",
      "<class 'int'>\n"
     ]
    }
   ],
   "source": [
    "y = int(x)\n",
    "print(y)\n",
    "print(type(y))"
   ]
  },
  {
   "cell_type": "code",
   "execution_count": 21,
   "id": "d490e75f-a026-46db-8b0f-ab751b165bbc",
   "metadata": {},
   "outputs": [
    {
     "name": "stdout",
     "output_type": "stream",
     "text": [
      "2.8\n"
     ]
    }
   ],
   "source": [
    "z= str(x)\n",
    "print(z)"
   ]
  },
  {
   "cell_type": "code",
   "execution_count": 23,
   "id": "ac68cad0-7400-4931-b35f-e0a8a94f551a",
   "metadata": {},
   "outputs": [
    {
     "ename": "TypeError",
     "evalue": "unsupported operand type(s) for +: 'int' and 'str'",
     "output_type": "error",
     "traceback": [
      "\u001b[0;31m---------------------------------------------------------------------------\u001b[0m",
      "\u001b[0;31mTypeError\u001b[0m                                 Traceback (most recent call last)",
      "Cell \u001b[0;32mIn[23], line 1\u001b[0m\n\u001b[0;32m----> 1\u001b[0m \u001b[38;5;28mprint\u001b[39m(y\u001b[38;5;241m+\u001b[39mz)\n",
      "\u001b[0;31mTypeError\u001b[0m: unsupported operand type(s) for +: 'int' and 'str'"
     ]
    }
   ],
   "source": [
    "print(y+z) "
   ]
  },
  {
   "cell_type": "markdown",
   "id": "58dedfe7-acf2-485c-8d8a-ec2d65bcdd77",
   "metadata": {},
   "source": [
    "# boolean Values\n",
    "- True, False\n",
    "- used in EDA - use bool()"
   ]
  },
  {
   "cell_type": "code",
   "execution_count": 25,
   "id": "aaf2ab14-a76e-4a3f-9fc2-62b2c2e66db3",
   "metadata": {},
   "outputs": [
    {
     "data": {
      "text/plain": [
       "True"
      ]
     },
     "execution_count": 25,
     "metadata": {},
     "output_type": "execute_result"
    }
   ],
   "source": [
    "True"
   ]
  },
  {
   "cell_type": "code",
   "execution_count": 27,
   "id": "041df3ad-58db-437a-942e-69f117de8650",
   "metadata": {},
   "outputs": [
    {
     "data": {
      "text/plain": [
       "bool"
      ]
     },
     "execution_count": 27,
     "metadata": {},
     "output_type": "execute_result"
    }
   ],
   "source": [
    "type(True)"
   ]
  },
  {
   "cell_type": "code",
   "execution_count": 29,
   "id": "b05bd03a-593f-4dab-af97-bb0be8463773",
   "metadata": {},
   "outputs": [],
   "source": [
    "my_str = 'Kavya'"
   ]
  },
  {
   "cell_type": "code",
   "execution_count": 33,
   "id": "1f7b5816-8204-4cad-8484-9cb554a8acbf",
   "metadata": {},
   "outputs": [
    {
     "name": "stdout",
     "output_type": "stream",
     "text": [
      "True\n"
     ]
    }
   ],
   "source": [
    "print(my_str.isalnum())"
   ]
  },
  {
   "cell_type": "code",
   "execution_count": 35,
   "id": "989e9ce0-049a-4de8-9dd5-0a6c2669ca45",
   "metadata": {},
   "outputs": [
    {
     "name": "stdout",
     "output_type": "stream",
     "text": [
      "False\n"
     ]
    }
   ],
   "source": [
    "print(10==9)"
   ]
  },
  {
   "cell_type": "code",
   "execution_count": 37,
   "id": "be476391-916d-4c51-958a-6336508fc5c4",
   "metadata": {},
   "outputs": [
    {
     "name": "stdout",
     "output_type": "stream",
     "text": [
      "True\n",
      "True\n"
     ]
    }
   ],
   "source": [
    "print(bool(\"Hello\"))\n",
    "print(bool(15))"
   ]
  },
  {
   "cell_type": "code",
   "execution_count": 39,
   "id": "2a90c367-734b-41fe-9d1b-4e773ddb181c",
   "metadata": {},
   "outputs": [
    {
     "name": "stdout",
     "output_type": "stream",
     "text": [
      "True\n",
      "True\n"
     ]
    }
   ],
   "source": [
    "x = \"Hello\"\n",
    "y = 15\n",
    "\n",
    "print(bool(x))\n",
    "print(bool(y))"
   ]
  },
  {
   "cell_type": "markdown",
   "id": "67d4c968-6e45-4773-8ae7-f1cc479e0eb5",
   "metadata": {},
   "source": []
  },
  {
   "cell_type": "markdown",
   "id": "f70bfc33-f673-4d63-971e-371edd1efb65",
   "metadata": {},
   "source": [
    "# Python Operators : perform operations on variables and values - BODMAS(brackets od division multiplication addition dividion)\n",
    "- Arithmetic operators(+,-,*,/,%,**,//)\n",
    "- Assignment operators\n",
    "- Comparison operators(==,!=,>,<,>=,<=)\n",
    "- Logical operators(and, or, not)\n",
    "- Identity operators(is, is not)\n",
    "- Membership operators(in, not in)\n",
    "- Bitwise operators"
   ]
  },
  {
   "cell_type": "code",
   "execution_count": 56,
   "id": "f8950a45-9441-49cf-aa9c-fb7201f5a45d",
   "metadata": {},
   "outputs": [
    {
     "name": "stdin",
     "output_type": "stream",
     "text": [
      "enter frist number  5\n",
      "enter second number  2\n"
     ]
    }
   ],
   "source": [
    "a= int(input('enter frist number '))\n",
    "b= int(input('enter second number '))\n"
   ]
  },
  {
   "cell_type": "code",
   "execution_count": 58,
   "id": "5fd1af74-5104-48ae-a180-50870d6f178c",
   "metadata": {},
   "outputs": [
    {
     "name": "stdout",
     "output_type": "stream",
     "text": [
      "7\n",
      "3\n",
      "10\n",
      "2.5\n",
      "1\n",
      "25\n",
      "2\n"
     ]
    }
   ],
   "source": [
    "print(a+b) #7\n",
    "print(a-b) #3\n",
    "print(a*b) #10\n",
    "print(a/b) #2.5 quotient\n",
    "print(a%b) #1 remainder\n",
    "print(a**b) #25 power\n",
    "print(a//b) #2 giver int of quotient"
   ]
  },
  {
   "cell_type": "markdown",
   "id": "01d700ac-1169-43c0-b160-3dec98b09328",
   "metadata": {},
   "source": [
    "Operator\tExample\tSame As\t\n",
    "=\t        x = 5\tx = 5\t\n",
    "+=\t        x += 3\tx = x + 3\t\n",
    "-=\t        x -= 3\tx = x - 3\t\n",
    "*=\t        x *= 3\tx = x * 3\t\n",
    "/=\t        x /= 3\tx = x / 3\t\n",
    "%=\t        x %= 3\tx = x % 3\t\n",
    "//=\t       x //= 3\tx = x // 3\t\n",
    "**=\t       x **= 3\tx = x ** 3\t\n",
    "&=\t       x &= 3\tx = x & 3\t\n",
    "|=\t       x |= 3\tx = x | 3\t\n",
    "^=\t       x ^= 3\tx = x ^ 3\t\n",
    ">>=\t      x >>= 3\tx = x >> 3\t\n",
    "<<=\t       x <<= 3\tx = x << 3\t\n",
    ":=\t       print(x := 3)\tx = 3\n",
    "print(x)\t\n",
    "\n"
   ]
  },
  {
   "cell_type": "code",
   "execution_count": 60,
   "id": "b4100f5e-a326-48bd-8c93-5f32d685e0e1",
   "metadata": {},
   "outputs": [
    {
     "name": "stdout",
     "output_type": "stream",
     "text": [
      "False\n",
      "False\n"
     ]
    }
   ],
   "source": [
    "x=20\n",
    "y=30\n",
    "print(x is y)\n",
    "print(x == y)"
   ]
  },
  {
   "cell_type": "code",
   "execution_count": 62,
   "id": "c5dc8aa8-4be5-40bf-a867-22c249e74b55",
   "metadata": {},
   "outputs": [
    {
     "data": {
      "text/plain": [
       "4378812784"
      ]
     },
     "execution_count": 62,
     "metadata": {},
     "output_type": "execute_result"
    }
   ],
   "source": [
    "id(x) # check memory adress"
   ]
  },
  {
   "cell_type": "code",
   "execution_count": 64,
   "id": "e3c1d898-82af-4d09-8f73-b2f18175d064",
   "metadata": {},
   "outputs": [
    {
     "data": {
      "text/plain": [
       "4378812784"
      ]
     },
     "execution_count": 64,
     "metadata": {},
     "output_type": "execute_result"
    }
   ],
   "source": [
    "a = 20\n",
    "id(a)"
   ]
  },
  {
   "cell_type": "markdown",
   "id": "184903fa-9f20-4623-a663-3805bee0ab5d",
   "metadata": {},
   "source": [
    "# LIST\n",
    "\n",
    "- data structure used to store collection of data\n",
    "- [], ordered, changable allow duplicates\n",
    "- lists items are indexed, strats with [0]"
   ]
  },
  {
   "cell_type": "code",
   "execution_count": 68,
   "id": "5cf6ca04-1897-4409-8b68-2de69f322ed7",
   "metadata": {},
   "outputs": [
    {
     "name": "stdout",
     "output_type": "stream",
     "text": [
      "['banana', 'apple', 'cherry']\n"
     ]
    }
   ],
   "source": [
    "list1 = ['banana' ,'apple', 'cherry']\n",
    "print(list1)"
   ]
  },
  {
   "cell_type": "code",
   "execution_count": 70,
   "id": "60690b9f-c39b-4f2d-b082-ab226207a60e",
   "metadata": {},
   "outputs": [
    {
     "data": {
      "text/plain": [
       "3"
      ]
     },
     "execution_count": 70,
     "metadata": {},
     "output_type": "execute_result"
    }
   ],
   "source": [
    "len(list1) # length of list"
   ]
  },
  {
   "cell_type": "code",
   "execution_count": 74,
   "id": "178fbb53-c1a0-45c1-a70c-252d4aef4016",
   "metadata": {},
   "outputs": [
    {
     "name": "stdout",
     "output_type": "stream",
     "text": [
      "['apple', 'banana', 'cherry']\n",
      "[1, 5, 7, 9, 3]\n",
      "[True, False, False]\n"
     ]
    }
   ],
   "source": [
    "list1 = [\"apple\", \"banana\", \"cherry\"]\n",
    "list2 = [1, 5, 7, 9, 3]\n",
    "list3 = [True, False, False]\n",
    "\n",
    "print(list1)\n",
    "print(list2)\n",
    "print(list3)"
   ]
  },
  {
   "cell_type": "code",
   "execution_count": 80,
   "id": "febff9fc-828a-4790-a210-536a6c784b94",
   "metadata": {},
   "outputs": [
    {
     "data": {
      "text/plain": [
       "list"
      ]
     },
     "execution_count": 80,
     "metadata": {},
     "output_type": "execute_result"
    }
   ],
   "source": [
    "type(list1)"
   ]
  },
  {
   "cell_type": "code",
   "execution_count": 82,
   "id": "4ae36a04-af89-41a3-b964-2e158da949fd",
   "metadata": {},
   "outputs": [
    {
     "name": "stdout",
     "output_type": "stream",
     "text": [
      "banana\n"
     ]
    }
   ],
   "source": [
    "print(list1[1])"
   ]
  },
  {
   "cell_type": "code",
   "execution_count": 84,
   "id": "bd9d8c61-243c-4c18-9c71-584dfa3bb8ae",
   "metadata": {},
   "outputs": [
    {
     "name": "stdout",
     "output_type": "stream",
     "text": [
      "cherry\n"
     ]
    }
   ],
   "source": [
    "print(list1[-1])"
   ]
  },
  {
   "cell_type": "code",
   "execution_count": 88,
   "id": "8788376b-fc40-4071-abb2-3ba48830c84a",
   "metadata": {},
   "outputs": [
    {
     "name": "stdout",
     "output_type": "stream",
     "text": [
      "[5, 7, 9]\n"
     ]
    }
   ],
   "source": [
    "# start with index 2 ends with 4(not included)\n",
    "list2 = [1, 5, 7, 9, 3]\n",
    "print(list2[1:4]) "
   ]
  },
  {
   "cell_type": "code",
   "execution_count": 90,
   "id": "abba6708-8300-4b47-ae8f-53c44e98fd6f",
   "metadata": {},
   "outputs": [
    {
     "name": "stdout",
     "output_type": "stream",
     "text": [
      "[1, 5, 7, 9]\n"
     ]
    }
   ],
   "source": [
    "print(list2[:4]) # untill 4(last 4 is not incuded)"
   ]
  },
  {
   "cell_type": "code",
   "execution_count": 92,
   "id": "fb88229f-aa27-4f2f-a570-cb21e1adaa88",
   "metadata": {},
   "outputs": [
    {
     "name": "stdout",
     "output_type": "stream",
     "text": [
      "[7, 9, 3]\n"
     ]
    }
   ],
   "source": [
    "print(list2[2:])"
   ]
  },
  {
   "cell_type": "code",
   "execution_count": 94,
   "id": "2ef0850f-d5ab-49b0-b4bb-e3d1edec56d0",
   "metadata": {},
   "outputs": [
    {
     "name": "stdout",
     "output_type": "stream",
     "text": [
      "['orange', 'kiwi', 'melon']\n"
     ]
    }
   ],
   "source": [
    "l3 = [\"apple\", \"banana\", \"cherry\", \"orange\", \"kiwi\", \"melon\", \"mango\"]\n",
    "print(l3[-4:-1])"
   ]
  },
  {
   "cell_type": "code",
   "execution_count": 98,
   "id": "781c8267-6f81-4219-bf0e-064f6c46b5e2",
   "metadata": {},
   "outputs": [
    {
     "name": "stdout",
     "output_type": "stream",
     "text": [
      "['apple', 'banana', 'blackcurrent', 'orange', 'kiwi', 'melon', 'mango']\n"
     ]
    }
   ],
   "source": [
    "# chnage od item\n",
    "l3[2] = \"blackcurrent\"\n",
    "print(l3)"
   ]
  },
  {
   "cell_type": "code",
   "execution_count": 102,
   "id": "93817c03-0a66-43a6-a7b6-933df1e213b6",
   "metadata": {},
   "outputs": [
    {
     "name": "stdout",
     "output_type": "stream",
     "text": [
      "['apple', 'banana', 'watermelon', 'blackcurrent', 'orange', 'kiwi', 'melon', 'mango']\n"
     ]
    }
   ],
   "source": [
    "# insert at paticular location\n",
    "l3.insert(2, 'watermelon')\n",
    "print(l3)"
   ]
  },
  {
   "cell_type": "code",
   "execution_count": 104,
   "id": "6fef23b0-9a84-4e27-acc8-4de27d63b8b4",
   "metadata": {},
   "outputs": [
    {
     "name": "stdout",
     "output_type": "stream",
     "text": [
      "['apple', 'banana', 'watermelon', 'blackcurrent', 'orange', 'kiwi', 'melon', 'mango', 'orange']\n"
     ]
    }
   ],
   "source": [
    "# append() add to thr end of the list\n",
    "\n",
    "l3.append('orange')\n",
    "print(l3)"
   ]
  },
  {
   "cell_type": "code",
   "execution_count": 106,
   "id": "98836973-2a7f-4c42-9587-aff78e507d97",
   "metadata": {},
   "outputs": [
    {
     "name": "stdout",
     "output_type": "stream",
     "text": [
      "['apple', 'banana', 'cherry', 'mango', 'pineapple', 'papaya']\n"
     ]
    }
   ],
   "source": [
    "#extend() will add 2 lists combine into one\n",
    "a = [\"apple\", \"banana\", \"cherry\"]\n",
    "b = [\"mango\", \"pineapple\", \"papaya\"]\n",
    "a.extend(b)\n",
    "print(a)"
   ]
  },
  {
   "cell_type": "code",
   "execution_count": 108,
   "id": "bbe52108-daf5-4510-ae3a-a44a131cfcf6",
   "metadata": {},
   "outputs": [
    {
     "name": "stdout",
     "output_type": "stream",
     "text": [
      "['apple', 'banana', 'cherry', 'mango', 'pineapple', 'papaya']\n"
     ]
    }
   ],
   "source": [
    "print(a)"
   ]
  },
  {
   "cell_type": "code",
   "execution_count": 116,
   "id": "11eb8ba4-24b0-470c-960d-ada8fbb9be25",
   "metadata": {},
   "outputs": [
    {
     "name": "stdout",
     "output_type": "stream",
     "text": [
      "['apple']\n"
     ]
    }
   ],
   "source": [
    "a= ['apple','banana']\n",
    "a.remove('banana')\n",
    "print(a)"
   ]
  },
  {
   "cell_type": "code",
   "execution_count": 124,
   "id": "76c1f079-86b6-4696-8455-c463ca569990",
   "metadata": {},
   "outputs": [
    {
     "name": "stdout",
     "output_type": "stream",
     "text": [
      "['apple', 'banana']\n"
     ]
    }
   ],
   "source": [
    "b = [\"apple\", \"banana\", \"cherry\"]\n",
    "b.pop()\n",
    "print(b)"
   ]
  },
  {
   "cell_type": "code",
   "execution_count": 126,
   "id": "d231a29c-a821-44fe-a464-7a60a9170787",
   "metadata": {},
   "outputs": [
    {
     "name": "stdout",
     "output_type": "stream",
     "text": [
      "['banana', 'cherry']\n"
     ]
    }
   ],
   "source": [
    "list1 = [\"apple\", \"banana\", \"cherry\"]\n",
    "del list1[0]\n",
    "print(list1)"
   ]
  },
  {
   "cell_type": "code",
   "execution_count": 128,
   "id": "e22ed012-202f-470b-a128-3c00849998d7",
   "metadata": {},
   "outputs": [
    {
     "name": "stdout",
     "output_type": "stream",
     "text": [
      "[]\n"
     ]
    }
   ],
   "source": [
    "list1.clear()\n",
    "print(list1)"
   ]
  },
  {
   "cell_type": "markdown",
   "id": "5b6c7da7-bafd-4ed3-86d5-813802a8c98b",
   "metadata": {},
   "source": [
    "\n",
    "\n",
    "append()\tAdds an element at the end of the list\n",
    "clear()\tRemoves all the elements from the list\n",
    "copy()\tReturns a copy of the list\n",
    "count()\tReturns the number of elements with the specified value\n",
    "extend()\tAdd the elements of a list (or any iterable), to the end of the current list\n",
    "index()\tReturns the index of the first element with the specified value\n",
    "insert()\tAdds an element at the specified position\n",
    "pop()\tRemoves the element at the specified position\n",
    "remove()\tRemoves the item with the specified value\n",
    "reverse()\tReverses the order of the list\n",
    "sort()\tSorts the list"
   ]
  },
  {
   "cell_type": "markdown",
   "id": "8186ace1-393e-4c65-a8f8-84f9d02a2add",
   "metadata": {},
   "source": [
    "# Tuple \n",
    "\n",
    "Tuple items are ordered, unchangeable, and allow duplicate values.\n",
    "\n",
    "Tuple items are indexed, the first item has index [0], the second item has index [1] etc."
   ]
  },
  {
   "cell_type": "code",
   "execution_count": 132,
   "id": "1b2fee99-6fa6-4a31-9f49-027feb06b838",
   "metadata": {},
   "outputs": [
    {
     "name": "stdout",
     "output_type": "stream",
     "text": [
      "apple\n"
     ]
    }
   ],
   "source": [
    "# Accsee tuple - indexing +ve and -ve, Range\n",
    "\n",
    "t1 = ('banana','apple','grapes')\n",
    "print(t1[1])"
   ]
  },
  {
   "cell_type": "code",
   "execution_count": 134,
   "id": "f3e410fe-bb31-41ce-8f58-50d06e19e4bd",
   "metadata": {},
   "outputs": [
    {
     "name": "stdout",
     "output_type": "stream",
     "text": [
      "('cherry', 'orange', 'kiwi')\n"
     ]
    }
   ],
   "source": [
    "t2 = (\"apple\", \"banana\", \"cherry\", \"orange\", \"kiwi\", \"melon\", \"mango\")\n",
    "print(t2[2:5])"
   ]
  },
  {
   "cell_type": "code",
   "execution_count": 136,
   "id": "e4bc0f37-9519-4ccd-a498-8797ef2bb9f1",
   "metadata": {},
   "outputs": [
    {
     "name": "stdout",
     "output_type": "stream",
     "text": [
      "('apple', 'kiwi', 'cherry')\n"
     ]
    }
   ],
   "source": [
    "# update\n",
    "\n",
    "x = (\"apple\", \"banana\", \"cherry\")\n",
    "y = list(x)\n",
    "y[1] = \"kiwi\"\n",
    "x = tuple(y)\n",
    "\n",
    "print(x)"
   ]
  },
  {
   "cell_type": "code",
   "execution_count": 142,
   "id": "502b277d-83ee-4a10-81d4-c9529c0dd41a",
   "metadata": {},
   "outputs": [
    {
     "name": "stdout",
     "output_type": "stream",
     "text": [
      "('apple', 'banana', 'cherry', 'orange')\n"
     ]
    }
   ],
   "source": [
    "# add tuple to tuple \n",
    "\n",
    "thistuple = (\"apple\", \"banana\", \"cherry\")\n",
    "y = (\"orange\",) # remeber include , at the end if only 1 item in tuple\n",
    "thistuple += y\n",
    "\n",
    "print(thistuple)"
   ]
  },
  {
   "cell_type": "code",
   "execution_count": 144,
   "id": "957b3d00-f96c-4820-bd6e-9eb85a72893c",
   "metadata": {},
   "outputs": [
    {
     "name": "stdout",
     "output_type": "stream",
     "text": [
      "apple\n",
      "banana\n",
      "cherry\n"
     ]
    }
   ],
   "source": [
    "#unpacking a Tuple\n",
    "\n",
    "fruits = (\"apple\", \"banana\", \"cherry\")\n",
    "\n",
    "(green, yellow, red) = fruits\n",
    "\n",
    "print(green)\n",
    "print(yellow)\n",
    "print(red)"
   ]
  },
  {
   "cell_type": "code",
   "execution_count": 146,
   "id": "4967ddc8-de39-4013-a0a3-0c314ab81f6d",
   "metadata": {},
   "outputs": [
    {
     "name": "stdout",
     "output_type": "stream",
     "text": [
      "('a', 'b', 'c', 1, 2, 3)\n"
     ]
    }
   ],
   "source": [
    "# join 2 tuple\n",
    "tuple1 = (\"a\", \"b\" , \"c\")\n",
    "tuple2 = (1, 2, 3)\n",
    "\n",
    "tuple3 = tuple1 + tuple2\n",
    "print(tuple3)"
   ]
  },
  {
   "cell_type": "markdown",
   "id": "f0216181-3935-4f79-9a9e-336505e90d9c",
   "metadata": {},
   "source": [
    "# methods\n",
    "\n",
    "Method\tDescription\n",
    "count()\tReturns the number of times a specified value occurs in a tuple\n",
    "index()\tSearches the tuple for a specified value and returns the position of where it was found"
   ]
  },
  {
   "cell_type": "code",
   "execution_count": 156,
   "id": "2650d31a-89cb-42e7-915e-56b9937dcdd4",
   "metadata": {},
   "outputs": [
    {
     "data": {
      "text/plain": [
       "3"
      ]
     },
     "execution_count": 156,
     "metadata": {},
     "output_type": "execute_result"
    }
   ],
   "source": [
    "t1= (1,2,3,1,3,2,1,4)\n",
    "t1.count(1)"
   ]
  },
  {
   "cell_type": "markdown",
   "id": "89cee599-169d-44b0-8ad1-8c1f574217ae",
   "metadata": {},
   "source": [
    "# Sets\n",
    "\n",
    "-unodered, unchangable, unindexed, {}\n",
    "- Note: Set items are unchangeable, but you can remove items and add new items."
   ]
  },
  {
   "cell_type": "code",
   "execution_count": 158,
   "id": "a2a5b941-7320-46a5-8d54-8473f415569a",
   "metadata": {},
   "outputs": [
    {
     "name": "stdout",
     "output_type": "stream",
     "text": [
      "3\n"
     ]
    }
   ],
   "source": [
    "set1 = {\"apple\", \"banana\", \"cherry\"}\n",
    "\n",
    "print(len(set1))"
   ]
  },
  {
   "cell_type": "code",
   "execution_count": 2,
   "id": "1b4e6c2c-94c9-46ef-8b72-20493ae6806a",
   "metadata": {},
   "outputs": [
    {
     "name": "stdout",
     "output_type": "stream",
     "text": [
      "{'banana', 'apple', 'cherry'}\n",
      "{1, 3, 5, 7, 9}\n",
      "{False, True}\n"
     ]
    }
   ],
   "source": [
    "# no repeted value - no dupliocate values\n",
    "set1 = {\"apple\", \"banana\", \"cherry\",\"apple\"}\n",
    "set2 = {1, 5, 7, 9, 3,9 }\n",
    "set3 = {True, False, False}\n",
    "\n",
    "print(set1)\n",
    "print(set2)\n",
    "print(set3)"
   ]
  },
  {
   "cell_type": "code",
   "execution_count": 4,
   "id": "d4a10c16-9407-41f9-b11a-ac6059428f8b",
   "metadata": {},
   "outputs": [
    {
     "name": "stdout",
     "output_type": "stream",
     "text": [
      "{True, 34, 'male', 40, 'abc'}\n"
     ]
    }
   ],
   "source": [
    "# combination of str and int in a set\n",
    "set1 = {\"abc\", 34, True, 40, \"male\"} \n",
    "print(set1)"
   ]
  },
  {
   "cell_type": "code",
   "execution_count": 6,
   "id": "4ef927b8-aa00-448a-bfa0-44b2d515c314",
   "metadata": {},
   "outputs": [
    {
     "name": "stdout",
     "output_type": "stream",
     "text": [
      "<class 'set'>\n"
     ]
    }
   ],
   "source": [
    "#type of fun\n",
    "print(type(set1))"
   ]
  },
  {
   "cell_type": "code",
   "execution_count": 10,
   "id": "4f02cc68-147f-4cf3-8d84-995131dbb056",
   "metadata": {},
   "outputs": [
    {
     "data": {
      "text/plain": [
       "{34, 40, True, 'abc', 'female', 'male'}"
      ]
     },
     "execution_count": 10,
     "metadata": {},
     "output_type": "execute_result"
    }
   ],
   "source": [
    "#no indexing-- \n",
    "# add\n",
    "set1.add('female')\n",
    "set1"
   ]
  },
  {
   "cell_type": "code",
   "execution_count": 14,
   "id": "8d3ccf46-d0b9-4ac5-a604-d9ce342d1f2b",
   "metadata": {},
   "outputs": [
    {
     "data": {
      "text/plain": [
       "{True}"
      ]
     },
     "execution_count": 14,
     "metadata": {},
     "output_type": "execute_result"
    }
   ],
   "source": [
    "set1 = {\"abc\", 34, True, 40, \"male\"} \n",
    "set2 = {'abc', 34, 40,'male'}\n",
    "set1.difference(set2)"
   ]
  },
  {
   "cell_type": "code",
   "execution_count": 16,
   "id": "b08fb240-f2b9-47e2-8edd-42baa71cfc9d",
   "metadata": {},
   "outputs": [
    {
     "data": {
      "text/plain": [
       "{34, 40, True, 'abc'}"
      ]
     },
     "execution_count": 16,
     "metadata": {},
     "output_type": "execute_result"
    }
   ],
   "source": [
    "set1.remove('male')\n",
    "set1"
   ]
  },
  {
   "cell_type": "code",
   "execution_count": 18,
   "id": "a0ea4680-67af-4882-b26e-cc15fea0e00a",
   "metadata": {},
   "outputs": [
    {
     "data": {
      "text/plain": [
       "{34, 40, 'abc', 'male'}"
      ]
     },
     "execution_count": 18,
     "metadata": {},
     "output_type": "execute_result"
    }
   ],
   "source": [
    "set1 = {\"abc\", 34, True, 40, \"male\"} \n",
    "set2 = {'abc', 34, 40,'male'}\n",
    "set1.intersection(set2)"
   ]
  },
  {
   "cell_type": "code",
   "execution_count": 20,
   "id": "d76a1746-66b9-4423-a7b3-7ca90bb42d4f",
   "metadata": {},
   "outputs": [],
   "source": [
    "set1.intersection_update(set2)"
   ]
  },
  {
   "cell_type": "code",
   "execution_count": 22,
   "id": "783e948a-1a0d-45f5-a657-1b012886addc",
   "metadata": {},
   "outputs": [
    {
     "data": {
      "text/plain": [
       "{34, 40, 'abc', 'male'}"
      ]
     },
     "execution_count": 22,
     "metadata": {},
     "output_type": "execute_result"
    }
   ],
   "source": [
    "set1"
   ]
  },
  {
   "cell_type": "markdown",
   "id": "bbc7d7b2-9aa7-4087-aded-fb188e3d7a36",
   "metadata": {},
   "source": [
    "# Dictonary\n",
    "\n",
    "- Dictionaries are used to store data values in key:value pairs.\n",
    "\n",
    "- A dictionary is a collection which is ordered*, changeable and do not allow duplicates, indexed.{}"
   ]
  },
  {
   "cell_type": "markdown",
   "id": "a716a29b-8d0d-49e6-a1f1-64a5face70fb",
   "metadata": {},
   "source": [
    "#Dictonary"
   ]
  },
  {
   "cell_type": "code",
   "execution_count": 24,
   "id": "529b63a1-23b5-497a-a875-d0cc20d42f42",
   "metadata": {},
   "outputs": [
    {
     "name": "stdout",
     "output_type": "stream",
     "text": [
      "{'brand': 'Ford', 'model': 'Mustang', 'year': 1964}\n"
     ]
    }
   ],
   "source": [
    "#create dictonary\n",
    "\n",
    "d1 = {\n",
    "  \"brand\": \"Ford\",\n",
    "  \"model\": \"Mustang\",\n",
    "  \"year\": 1964\n",
    "}\n",
    "print(d1)"
   ]
  },
  {
   "cell_type": "code",
   "execution_count": 26,
   "id": "fdfcafb5-3ffa-4dbd-8dd0-3f534a0cbef2",
   "metadata": {},
   "outputs": [
    {
     "name": "stdout",
     "output_type": "stream",
     "text": [
      "<class 'dict'>\n"
     ]
    }
   ],
   "source": [
    "print(type(d1))"
   ]
  },
  {
   "cell_type": "code",
   "execution_count": 30,
   "id": "c3c2338b-d1ee-4dca-a644-4dd5a7fec8f6",
   "metadata": {},
   "outputs": [
    {
     "name": "stdout",
     "output_type": "stream",
     "text": [
      "Mustang\n"
     ]
    }
   ],
   "source": [
    "# Accessing items\n",
    "\n",
    "x=d1['model']\n",
    "print(x)"
   ]
  },
  {
   "cell_type": "code",
   "execution_count": 34,
   "id": "399b619f-824a-4fc7-af41-05bc68a3562c",
   "metadata": {},
   "outputs": [
    {
     "name": "stdout",
     "output_type": "stream",
     "text": [
      "Ford\n"
     ]
    }
   ],
   "source": [
    "x=d1.get('brand')\n",
    "print(x)"
   ]
  },
  {
   "cell_type": "code",
   "execution_count": 36,
   "id": "40389a6c-df79-43f0-a289-0a7eed746f03",
   "metadata": {},
   "outputs": [
    {
     "name": "stdout",
     "output_type": "stream",
     "text": [
      "dict_keys(['brand', 'model', 'year'])\n"
     ]
    }
   ],
   "source": [
    "# to return all keys\n",
    "\n",
    "print(d1.keys())"
   ]
  },
  {
   "cell_type": "code",
   "execution_count": 38,
   "id": "51ca1bde-817a-4c0e-8091-af4dd8d28759",
   "metadata": {},
   "outputs": [
    {
     "name": "stdout",
     "output_type": "stream",
     "text": [
      "dict_keys(['brand', 'model', 'year'])\n",
      "dict_keys(['brand', 'model', 'year', 'color'])\n"
     ]
    }
   ],
   "source": [
    "car = {\n",
    "\"brand\": \"Ford\",\n",
    "\"model\": \"Mustang\",\n",
    "\"year\": 1964\n",
    "}\n",
    "\n",
    "x = car.keys()\n",
    "\n",
    "print(x) #before the change\n",
    "\n",
    "car[\"color\"] = \"white\"\n",
    "\n",
    "print(x) #after the change"
   ]
  },
  {
   "cell_type": "code",
   "execution_count": 40,
   "id": "7eafe218-527e-451b-8c32-746cab2ad3ee",
   "metadata": {},
   "outputs": [
    {
     "name": "stdout",
     "output_type": "stream",
     "text": [
      "{'brand': 'Ford', 'model': 'Mustang', 'year': 1964, 'color': 'white'}\n"
     ]
    }
   ],
   "source": [
    "print(car)"
   ]
  },
  {
   "cell_type": "code",
   "execution_count": 42,
   "id": "85600d83-c9f0-4a44-9f70-c7c0bd82bf37",
   "metadata": {},
   "outputs": [
    {
     "name": "stdout",
     "output_type": "stream",
     "text": [
      "{'brand': 'Ford', 'model': 'Mustang', 'year': 1997, 'color': 'white'}\n"
     ]
    }
   ],
   "source": [
    "#change item\n",
    "\n",
    "car.update({'year':1997})\n",
    "print(car)"
   ]
  },
  {
   "cell_type": "code",
   "execution_count": 46,
   "id": "40f32d3d-9327-48a2-98de-3a0f7ca9f471",
   "metadata": {},
   "outputs": [
    {
     "name": "stdout",
     "output_type": "stream",
     "text": [
      "{'brand': 'Ford', 'model': 'Mustang', 'year': 1997}\n"
     ]
    }
   ],
   "source": [
    "#remove \n",
    "\n",
    "car.pop('color')\n",
    "print(car)"
   ]
  },
  {
   "cell_type": "code",
   "execution_count": null,
   "id": "ffbb553f-84b1-436e-95ee-b0350249b610",
   "metadata": {},
   "outputs": [],
   "source": []
  },
  {
   "cell_type": "code",
   "execution_count": null,
   "id": "dcda5bc9-a526-450b-bf3d-110083ac0ad5",
   "metadata": {},
   "outputs": [],
   "source": []
  },
  {
   "cell_type": "code",
   "execution_count": null,
   "id": "4a1772f9-e964-411a-ab95-3cbf0705a595",
   "metadata": {},
   "outputs": [],
   "source": []
  },
  {
   "cell_type": "code",
   "execution_count": null,
   "id": "9b5b0698-0c16-44a8-bf33-3dc83100eeeb",
   "metadata": {},
   "outputs": [],
   "source": []
  },
  {
   "cell_type": "code",
   "execution_count": null,
   "id": "a5418c29-2a75-4ff0-8bd6-25dad0ca4921",
   "metadata": {},
   "outputs": [],
   "source": []
  },
  {
   "cell_type": "code",
   "execution_count": null,
   "id": "008e3e05-a50a-4b90-b1a8-c745cc475129",
   "metadata": {},
   "outputs": [],
   "source": []
  },
  {
   "cell_type": "code",
   "execution_count": null,
   "id": "6925cebd-a18c-40d7-872d-fd07cf565943",
   "metadata": {},
   "outputs": [],
   "source": []
  },
  {
   "cell_type": "code",
   "execution_count": null,
   "id": "f8be4503-c3ae-46cb-88ee-933ad34bedb2",
   "metadata": {},
   "outputs": [],
   "source": []
  }
 ],
 "metadata": {
  "kernelspec": {
   "display_name": "Python [conda env:base] *",
   "language": "python",
   "name": "conda-base-py"
  },
  "language_info": {
   "codemirror_mode": {
    "name": "ipython",
    "version": 3
   },
   "file_extension": ".py",
   "mimetype": "text/x-python",
   "name": "python",
   "nbconvert_exporter": "python",
   "pygments_lexer": "ipython3",
   "version": "3.12.7"
  }
 },
 "nbformat": 4,
 "nbformat_minor": 5
}
